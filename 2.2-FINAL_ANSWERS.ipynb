{
 "cells": [
  {
   "cell_type": "markdown",
   "id": "d14c8e39",
   "metadata": {},
   "source": [
    "## Andrew Byrnes: Fetch Rewards Coding Exercise - Data Analyst\n",
    "### 2.2-FINAL_ANSWERS.ipynb\n",
    "\n",
    "This notebook contains my submission for the Fetch Rewards Coding Exercise - Data Analyst. It is an edited and concise version of 2.1-EDA_first_pass.ipynb. I've added additional descriptive comments to my code, and removed some of the exploratory analysis present in the first pass. \n",
    "\n",
    "The content presented here should be considered as my final answers for the exercise.\n",
    "\n",
    "### Data Sources\n",
    "- fetch.db: SQLite file from notebook 1-Data_Prep\n",
    "- fetch_db_erd.jpg: ERD image, documenting fetch.db schema designed and created in notebook 1-Data_Prep\n",
    "\n",
    "### Changes\n",
    "- 09-21-2022 : Set up notebook\n",
    "- 09-25-2022 : added final version of answers, translating and editing from work in 2.1-EDA_first_pass.ipynb"
   ]
  },
  {
   "cell_type": "code",
   "execution_count": 2,
   "id": "87401806",
   "metadata": {},
   "outputs": [],
   "source": [
    "import pandas as pd\n",
    "from pathlib import Path\n",
    "import os\n",
    "from datetime import datetime\n",
    "import sqlite3"
   ]
  },
  {
   "cell_type": "markdown",
   "id": "f15471ee",
   "metadata": {},
   "source": [
    "### File Locations"
   ]
  },
  {
   "cell_type": "code",
   "execution_count": 3,
   "id": "1594c2f4",
   "metadata": {},
   "outputs": [
    {
     "name": "stdout",
     "output_type": "stream",
     "text": [
      "2022-09-25 12:27:14.729437\n"
     ]
    }
   ],
   "source": [
    "today = datetime.today()\n",
    "print(today)\n",
    "db_path = Path.cwd() / \"data\" / \"processed\" / \"fetch.db\"\n",
    "erd_fetch_db = Path.cwd() / \"data\" / \"interim\" / \"fetch_db_erd.jpg\" "
   ]
  },
  {
   "cell_type": "markdown",
   "id": "33c8ac2f",
   "metadata": {},
   "source": [
    "### Formatting and options"
   ]
  },
  {
   "cell_type": "code",
   "execution_count": null,
   "id": "452858e4",
   "metadata": {},
   "outputs": [],
   "source": [
    "pd.set_option('display.max_colwidth', None)\n",
    "pd.set_option('display.max_rows', None)\n",
    "# pd.reset_option('display.max_rows')\n",
    "pd.set_option('display.max_columns', None)\n",
    "# pd.reset_option('display.max_columns')"
   ]
  }
 ],
 "metadata": {
  "kernelspec": {
   "display_name": "Python 3 (ipykernel)",
   "language": "python",
   "name": "python3"
  },
  "language_info": {
   "codemirror_mode": {
    "name": "ipython",
    "version": 3
   },
   "file_extension": ".py",
   "mimetype": "text/x-python",
   "name": "python",
   "nbconvert_exporter": "python",
   "pygments_lexer": "ipython3",
   "version": "3.9.12"
  }
 },
 "nbformat": 4,
 "nbformat_minor": 5
}
