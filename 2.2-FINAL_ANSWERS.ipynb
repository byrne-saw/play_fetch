{
 "cells": [
  {
   "cell_type": "markdown",
   "id": "d14c8e39",
   "metadata": {},
   "source": [
    "## Andrew Byrnes: Fetch Rewards Coding Exercise - Data Analyst\n",
    "### 2.2-FINAL_ANSWERS.ipynb\n",
    "\n",
    "This notebook\n",
    "\n",
    "### Data Sources\n",
    "- summary : Processed file from notebook 1-Data_Prep\n",
    "\n",
    "### Changes\n",
    "- 09-21-2022 : Set up notebook"
   ]
  },
  {
   "cell_type": "code",
   "execution_count": 3,
   "id": "87401806",
   "metadata": {},
   "outputs": [],
   "source": [
    "import pandas as pd\n",
    "from pathlib import Path\n",
    "import os\n",
    "from datetime import datetime\n",
    "import gzip\n",
    "import json\n",
    "import sqlite3"
   ]
  },
  {
   "cell_type": "markdown",
   "id": "f15471ee",
   "metadata": {},
   "source": [
    "### File Locations"
   ]
  },
  {
   "cell_type": "code",
   "execution_count": 4,
   "id": "1594c2f4",
   "metadata": {},
   "outputs": [
    {
     "name": "stdout",
     "output_type": "stream",
     "text": [
      "2022-09-22 01:46:56.472074\n"
     ]
    }
   ],
   "source": [
    "today = datetime.today()\n",
    "print(today)\n",
    "db_path = Path.cwd() / \"data\" / \"processed\" / \"fetch.db\""
   ]
  },
  {
   "cell_type": "code",
   "execution_count": null,
   "id": "c1fee34f",
   "metadata": {},
   "outputs": [],
   "source": []
  }
 ],
 "metadata": {
  "kernelspec": {
   "display_name": "Python 3 (ipykernel)",
   "language": "python",
   "name": "python3"
  },
  "language_info": {
   "codemirror_mode": {
    "name": "ipython",
    "version": 3
   },
   "file_extension": ".py",
   "mimetype": "text/x-python",
   "name": "python",
   "nbconvert_exporter": "python",
   "pygments_lexer": "ipython3",
   "version": "3.9.12"
  }
 },
 "nbformat": 4,
 "nbformat_minor": 5
}
